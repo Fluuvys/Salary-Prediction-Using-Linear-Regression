{
 "cells": [
  {
   "cell_type": "markdown",
   "id": "329525bc-f4b9-40e0-930b-5f52579127c3",
   "metadata": {},
   "source": [
    "# Project: Implement linear regression to predict salary using numpy\n",
    "#### Steps of linear regression: \n",
    "1. Pick a sample from training data\n",
    "2. Compute y_hat (Predicted salary value) based on a linear function y = mx+b\n",
    "3. Compute loss function\n",
    "4. Compute derivative\n",
    "5. Update parameters using gradient descent"
   ]
  },
  {
   "cell_type": "markdown",
   "id": "9cad89a0-d446-402d-bc93-379bef1c8108",
   "metadata": {},
   "source": [
    "#### Import libraries"
   ]
  },
  {
   "cell_type": "code",
   "execution_count": 359,
   "id": "0f2fffc6-f4c5-46de-a09e-5a3dfa65956d",
   "metadata": {},
   "outputs": [],
   "source": [
    "import numpy as np\n",
    "import pandas as pd\n",
    "import random\n",
    "import math"
   ]
  },
  {
   "cell_type": "markdown",
   "id": "e9fa3c0a-a0ae-4939-b915-d700551f204b",
   "metadata": {},
   "source": [
    "#### Read csv file"
   ]
  },
  {
   "cell_type": "code",
   "execution_count": 362,
   "id": "f5f6d62b-b423-4bf6-ab4d-97e216067356",
   "metadata": {},
   "outputs": [
    {
     "data": {
      "text/html": [
       "<div>\n",
       "<style scoped>\n",
       "    .dataframe tbody tr th:only-of-type {\n",
       "        vertical-align: middle;\n",
       "    }\n",
       "\n",
       "    .dataframe tbody tr th {\n",
       "        vertical-align: top;\n",
       "    }\n",
       "\n",
       "    .dataframe thead th {\n",
       "        text-align: right;\n",
       "    }\n",
       "</style>\n",
       "<table border=\"1\" class=\"dataframe\">\n",
       "  <thead>\n",
       "    <tr style=\"text-align: right;\">\n",
       "      <th></th>\n",
       "      <th>YearsExperience</th>\n",
       "      <th>Salary</th>\n",
       "    </tr>\n",
       "  </thead>\n",
       "  <tbody>\n",
       "    <tr>\n",
       "      <th>0</th>\n",
       "      <td>1.2</td>\n",
       "      <td>39344.0</td>\n",
       "    </tr>\n",
       "    <tr>\n",
       "      <th>1</th>\n",
       "      <td>1.4</td>\n",
       "      <td>46206.0</td>\n",
       "    </tr>\n",
       "    <tr>\n",
       "      <th>2</th>\n",
       "      <td>1.6</td>\n",
       "      <td>37732.0</td>\n",
       "    </tr>\n",
       "    <tr>\n",
       "      <th>3</th>\n",
       "      <td>2.1</td>\n",
       "      <td>43526.0</td>\n",
       "    </tr>\n",
       "    <tr>\n",
       "      <th>4</th>\n",
       "      <td>2.3</td>\n",
       "      <td>39892.0</td>\n",
       "    </tr>\n",
       "  </tbody>\n",
       "</table>\n",
       "</div>"
      ],
      "text/plain": [
       "   YearsExperience   Salary\n",
       "0              1.2  39344.0\n",
       "1              1.4  46206.0\n",
       "2              1.6  37732.0\n",
       "3              2.1  43526.0\n",
       "4              2.3  39892.0"
      ]
     },
     "execution_count": 362,
     "metadata": {},
     "output_type": "execute_result"
    }
   ],
   "source": [
    "df = pd.read_csv(\"Salary_dataset.csv\", index_col = 0)\n",
    "df.head()"
   ]
  },
  {
   "cell_type": "markdown",
   "id": "a937b6c3-3bf1-4d4a-a5d9-1325bb6d7d67",
   "metadata": {},
   "source": [
    "### Step 1: Split training data and testing data"
   ]
  },
  {
   "cell_type": "code",
   "execution_count": 365,
   "id": "c818b92a-3b61-43df-8846-73ef5c7d1a93",
   "metadata": {},
   "outputs": [],
   "source": [
    "def get_column(data,index):\n",
    "    result = []\n",
    "    for i in range(len(data)):\n",
    "        result.append(data[i][index])\n",
    "    return result\n",
    "    \n",
    "\n",
    "def prepare_data ( file_name_dataset ) :\n",
    "    data = np.genfromtxt( file_name_dataset , delimiter = \",\", skip_header =1).tolist()\n",
    "    N = len(data)\n",
    "\n",
    "    exp_data = get_column(data,1)\n",
    "    salary_data = get_column(data, -1)\n",
    "\n",
    "    # Shuffle the data while keeping the relationship between features and labels\n",
    "    combined = list(zip(exp_data, salary_data))\n",
    "    random.shuffle(combined)\n",
    "    exp_data, salary_data = zip(*combined)\n",
    "    \n",
    "    # building X input and y output for training\n",
    "    X = exp_data[:len(exp_data)//2]\n",
    "    y = salary_data[:len(salary_data)//2]\n",
    "\n",
    "    # Data for testing\n",
    "    X_test = exp_data[len(exp_data)//2:]\n",
    "    y_test = salary_data[len(salary_data)//2:]\n",
    "    return X , y, X_test, y_test"
   ]
  },
  {
   "cell_type": "code",
   "execution_count": 367,
   "id": "93877615-908a-41e1-aa12-d649e7808ba8",
   "metadata": {},
   "outputs": [
    {
     "name": "stdout",
     "output_type": "stream",
     "text": [
      "Training input: (6.1, 1.4000000000000001, 9.7, 6.8999999999999995, 3.3000000000000003, 5.3999999999999995, 4.6, 3.1, 2.1, 1.6, 8.0, 3.3000000000000003, 4.1, 4.0, 3.8000000000000003)\n",
      "Training output: (93941.0, 46206.0, 112636.0, 91739.0, 64446.0, 83089.0, 61112.0, 60151.0, 43526.0, 37732.0, 101303.0, 54446.0, 56958.0, 63219.0, 57190.0)\n",
      "Testing input: (4.1, 3.0, 9.6, 10.4, 8.299999999999999, 5.0, 8.799999999999999, 6.0, 5.199999999999999, 2.3000000000000003, 7.199999999999999, 4.199999999999999, 9.1, 1.2000000000000002, 10.6)\n",
      "Testing output: (55795.0, 56643.0, 116970.0, 122392.0, 113813.0, 67939.0, 109432.0, 81364.0, 66030.0, 39892.0, 98274.0, 57082.0, 105583.0, 39344.0, 121873.0)\n"
     ]
    }
   ],
   "source": [
    "#Our current training data\n",
    "X,y,X_test,y_test = prepare_data('Salary_dataset.csv')\n",
    "print(\"Training input:\",X)\n",
    "print(\"Training output:\",y)\n",
    "print(\"Testing input:\",X_test)\n",
    "print(\"Testing output:\",y_test)"
   ]
  },
  {
   "cell_type": "markdown",
   "id": "93135089-5702-42e1-a537-f01e570d6e12",
   "metadata": {},
   "source": [
    "### Step 2: Implement linear regression based on the steps"
   ]
  },
  {
   "cell_type": "code",
   "execution_count": 370,
   "id": "3ca797d0-6b94-4efd-ba43-82fee713cfff",
   "metadata": {},
   "outputs": [],
   "source": [
    "#Our function is a linear function y_hat=mx+b\n",
    "def linear_regression(X_data, y_data, epoch_max = 10000, lr = 1e-5):\n",
    "    losses = []\n",
    "    m, b = initialize_params()\n",
    "    N = len(y_data)\n",
    "    for epoch in range(epoch_max):\n",
    "        for i in range(N):\n",
    "            x = X_data[i]\n",
    "            y = y_data[i]\n",
    "\n",
    "            #Compute the predicted output\n",
    "            y_hat = (m*x)+b\n",
    "\n",
    "            #Create the loss function\n",
    "            loss = (y_hat-y)**2\n",
    "\n",
    "            #Compute gradient/derivative based on the parameters\n",
    "            dl_dm = 2*(y_hat-y)*x\n",
    "            dl_db = 2*(y_hat-y)\n",
    "\n",
    "            #Update our parameters using gradient descent\n",
    "            m = m-(lr*dl_dm)\n",
    "            b = b-(lr*dl_db)\n",
    "\n",
    "            #Logging\n",
    "            losses.append(loss)\n",
    "    return (m,b,losses)\n",
    "    \n",
    "#Our initial parameters for this project will be predetermined, you can set it to random if you wish.\n",
    "def initialize_params():\n",
    "    m = 1\n",
    "    b = 0\n",
    "    return m,b\n",
    "    "
   ]
  },
  {
   "cell_type": "markdown",
   "id": "28bf3148-6fca-4abd-8871-b79f9a6ffd79",
   "metadata": {},
   "source": [
    "### Step 3: Train our model"
   ]
  },
  {
   "cell_type": "code",
   "execution_count": 373,
   "id": "576b832e-904b-4237-9ec3-63bb7564df9c",
   "metadata": {},
   "outputs": [
    {
     "name": "stdout",
     "output_type": "stream",
     "text": [
      "The model's trained function is y=11654.247090377065x+13456.182537661409\n"
     ]
    }
   ],
   "source": [
    "(m,b,losses) = linear_regression(X,y)\n",
    "print(f\"The model's trained function is y={m}x+{b}\")\n",
    "\n",
    "#Uncomment this if you want to see the losses log\n",
    "# print(\"Losses log:\", losses)"
   ]
  },
  {
   "cell_type": "markdown",
   "id": "02842ec3-eb6c-4b53-8a89-827cf5c1f859",
   "metadata": {},
   "source": [
    "### Step 4: Test our model\n",
    "#### We will use MSE to evaluate our model"
   ]
  },
  {
   "cell_type": "code",
   "execution_count": 376,
   "id": "f1a91881-75a5-4256-873e-52b6d9288714",
   "metadata": {},
   "outputs": [],
   "source": [
    "def predict(x,m,b):\n",
    "    y = m*x+b\n",
    "    return y"
   ]
  },
  {
   "cell_type": "code",
   "execution_count": 378,
   "id": "5b0d2d74-929e-4fd7-8745-27a78f51e59d",
   "metadata": {},
   "outputs": [],
   "source": [
    "def evaluate_model(X_data, y_data, m, b):\n",
    "    y_pred = predict(X_data, m,b)\n",
    "    mse = np.mean((y_data - y_pred)**2)\n",
    "    rmse = np.sqrt(mse)\n",
    "    # r_squared = 1 - (np.sum((y_data - y_pred) ** 2) / np.sum((y_data - np.mean(y_data)) ** 2))\n",
    "    return mse, rmse, diff"
   ]
  },
  {
   "cell_type": "code",
   "execution_count": 380,
   "id": "6ca4fa51-ecd0-40ed-8d02-0f406b00d4c3",
   "metadata": {},
   "outputs": [
    {
     "name": "stdout",
     "output_type": "stream",
     "text": [
      "Test number 1: mse = 29632733.145694546, rmse = 5443.595608207368\n",
      "Test number 2: mse = 67635429.19878444, rmse = 8224.076191207401\n",
      "Test number 3: mse = 70005929.36683689, rmse = 8366.954605281237\n",
      "Test number 4: mse = 150512467.60687327, rmse = 12268.35227758289\n",
      "Test number 5: mse = 13151985.392788777, rmse = 3626.5666122089606\n",
      "Test number 6: mse = 14352110.863521354, rmse = 3788.4179895467387\n",
      "Test number 7: mse = 43316891.66205143, rmse = 6581.556932979569\n",
      "Test number 8: mse = 4070972.3747439054, rmse = 2017.6650799237977\n",
      "Test number 9: mse = 64453077.56828799, rmse = 8028.267407622145\n",
      "Test number 10: mse = 136124.72641631548, rmse = 368.9508455286632\n",
      "Test number 11: mse = 823081.5355255352, rmse = 907.2384116237226\n",
      "Test number 12: mse = 28323900.25716933, rmse = 5322.020317245071\n",
      "Test number 13: mse = 193956623.37636256, rmse = 13926.831060092692\n",
      "Test number 14: mse = 141674766.10607955, rmse = 11902.720953886113\n",
      "Test number 15: mse = 228560022.51060537, rmse = 15118.201695658296\n"
     ]
    }
   ],
   "source": [
    "#Evaluate model\n",
    "total_mse = 0\n",
    "total_rmse = 0\n",
    "for i in range(len(X_test)):    \n",
    "    mse,rmse,diff = evaluate_model(X_test[i], y_test[i], m, b)\n",
    "    total_mse+=mse\n",
    "    total_rmse+=rmse\n",
    "    print(f\"Test number {i+1}: mse = {mse}, rmse = {rmse}\")"
   ]
  },
  {
   "cell_type": "code",
   "execution_count": 382,
   "id": "fc6c6234-c3e9-41a1-a3b4-858598714d67",
   "metadata": {},
   "outputs": [
    {
     "name": "stdout",
     "output_type": "stream",
     "text": [
      "Average mse is 70040407.71278276\n",
      "Average rmse is 7059.427732572978\n"
     ]
    }
   ],
   "source": [
    "print(\"Average mse is\", total_mse/len(X_test) )\n",
    "print(\"Average rmse is\", total_rmse/len(X_test))"
   ]
  }
 ],
 "metadata": {
  "kernelspec": {
   "display_name": "Python 3 (ipykernel)",
   "language": "python",
   "name": "python3"
  },
  "language_info": {
   "codemirror_mode": {
    "name": "ipython",
    "version": 3
   },
   "file_extension": ".py",
   "mimetype": "text/x-python",
   "name": "python",
   "nbconvert_exporter": "python",
   "pygments_lexer": "ipython3",
   "version": "3.12.7"
  }
 },
 "nbformat": 4,
 "nbformat_minor": 5
}
